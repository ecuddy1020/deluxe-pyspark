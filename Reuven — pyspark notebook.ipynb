{
 "cells": [
  {
   "cell_type": "code",
   "execution_count": 7,
   "id": "517edc11",
   "metadata": {},
   "outputs": [],
   "source": [
    "import pyspark\n",
    "from pyspark.sql import SparkSession\n",
    "import pyspark.sql.functions as F"
   ]
  },
  {
   "cell_type": "markdown",
   "id": "0458d611",
   "metadata": {},
   "source": [
    "# What are we doing?\n",
    "\n",
    "We're going to be using a SparkSession as our main way of talking to Spark.\n",
    "\n",
    "On this computer, I'm running a single-node cluster, which we can think of as a \"Spark server.\"\n",
    "\n"
   ]
  },
  {
   "cell_type": "code",
   "execution_count": 8,
   "id": "bf0aae53",
   "metadata": {},
   "outputs": [],
   "source": [
    "# let's create a spark session that will let us work with things\n",
    "\n",
    "spark = SparkSession.builder.getOrCreate()"
   ]
  },
  {
   "cell_type": "markdown",
   "id": "6760da0f",
   "metadata": {},
   "source": [
    "Normally, in Python, if I want to create a new object, I just go and invoke the class, and get back a new instance of that type.  So I can say `str()` or `StringIO()`, and I get that instance back.\n",
    "\n",
    "Here, though, we're not asking for `SparkSession()1`."
   ]
  }
 ],
 "metadata": {
  "kernelspec": {
   "display_name": "Python 3 (ipykernel)",
   "language": "python",
   "name": "python3"
  },
  "language_info": {
   "codemirror_mode": {
    "name": "ipython",
    "version": 3
   },
   "file_extension": ".py",
   "mimetype": "text/x-python",
   "name": "python",
   "nbconvert_exporter": "python",
   "pygments_lexer": "ipython3",
   "version": "3.10.7"
  }
 },
 "nbformat": 4,
 "nbformat_minor": 5
}
