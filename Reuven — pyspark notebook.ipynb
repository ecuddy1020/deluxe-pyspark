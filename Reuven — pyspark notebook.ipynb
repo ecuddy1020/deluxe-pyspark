{
 "cells": [
  {
   "cell_type": "code",
   "execution_count": 7,
   "id": "3197d8b3",
   "metadata": {},
   "outputs": [],
   "source": [
    "import pyspark\n",
    "from pyspark.sql import SparkSession\n",
    "import pyspark.sql.functions as F"
   ]
  },
  {
   "cell_type": "markdown",
   "id": "03c11137",
   "metadata": {},
   "source": [
    "# What are we doing?\n",
    "\n",
    "We're going to be using a SparkSession as our main way of talking to Spark.\n",
    "\n",
    "On this computer, I'm running a single-node cluster, which we can think of as a \"Spark server.\"\n",
    "\n"
   ]
  },
  {
   "cell_type": "code",
   "execution_count": null,
   "id": "674624e1",
   "metadata": {},
   "outputs": [],
   "source": [
    "# let's create a spark session that will let us work with things\n",
    "\n",
    "spark = "
   ]
  }
 ],
 "metadata": {
  "kernelspec": {
   "display_name": "Python 3 (ipykernel)",
   "language": "python",
   "name": "python3"
  },
  "language_info": {
   "codemirror_mode": {
    "name": "ipython",
    "version": 3
   },
   "file_extension": ".py",
   "mimetype": "text/x-python",
   "name": "python",
   "nbconvert_exporter": "python",
   "pygments_lexer": "ipython3",
   "version": "3.10.7"
  }
 },
 "nbformat": 4,
 "nbformat_minor": 5
}
