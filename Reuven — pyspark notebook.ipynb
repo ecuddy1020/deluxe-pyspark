{
 "cells": [
  {
   "cell_type": "code",
   "execution_count": 6,
   "id": "aeb241e7",
   "metadata": {},
   "outputs": [],
   "source": [
    "import pyspark\n",
    "from pyspark.sql import SparkSession"
   ]
  },
  {
   "cell_type": "markdown",
   "id": "80771c11",
   "metadata": {},
   "source": [
    "# What are we doing?\n",
    "\n",
    "We're going to be using a SparkSession as our main way of talking to Spark.\n",
    "\n",
    "On this computer, I'm running a single-node cluster, which we can think of as a \"Spark server.\"\n",
    "\n"
   ]
  },
  {
   "cell_type": "code",
   "execution_count": null,
   "id": "b23c97fc",
   "metadata": {},
   "outputs": [],
   "source": []
  }
 ],
 "metadata": {
  "kernelspec": {
   "display_name": "Python 3 (ipykernel)",
   "language": "python",
   "name": "python3"
  },
  "language_info": {
   "codemirror_mode": {
    "name": "ipython",
    "version": 3
   },
   "file_extension": ".py",
   "mimetype": "text/x-python",
   "name": "python",
   "nbconvert_exporter": "python",
   "pygments_lexer": "ipython3",
   "version": "3.10.7"
  }
 },
 "nbformat": 4,
 "nbformat_minor": 5
}
