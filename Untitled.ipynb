{
 "cells": [
  {
   "cell_type": "code",
   "execution_count": 13,
   "id": "d31ff8df",
   "metadata": {},
   "outputs": [],
   "source": [
    "import pyspark"
   ]
  },
  {
   "cell_type": "code",
   "execution_count": 14,
   "id": "842c9879",
   "metadata": {},
   "outputs": [],
   "source": [
    "from pyspark.sql import SparkSession\n",
    " \n",
    "spark = SparkSession.builder.getOrCreate()"
   ]
  },
  {
   "cell_type": "code",
   "execution_count": 15,
   "id": "24feed5a",
   "metadata": {},
   "outputs": [
    {
     "data": {
      "text/html": [
       "\n",
       "            <div>\n",
       "                <p><b>SparkSession - in-memory</b></p>\n",
       "                \n",
       "        <div>\n",
       "            <p><b>SparkContext</b></p>\n",
       "\n",
       "            <p><a href=\"http://10.10.0.6:4040\">Spark UI</a></p>\n",
       "\n",
       "            <dl>\n",
       "              <dt>Version</dt>\n",
       "                <dd><code>v3.4.0</code></dd>\n",
       "              <dt>Master</dt>\n",
       "                <dd><code>local[*]</code></dd>\n",
       "              <dt>AppName</dt>\n",
       "                <dd><code>pyspark-shell</code></dd>\n",
       "            </dl>\n",
       "        </div>\n",
       "        \n",
       "            </div>\n",
       "        "
      ],
      "text/plain": [
       "<pyspark.sql.session.SparkSession at 0x7f04780fd5d0>"
      ]
     },
     "execution_count": 15,
     "metadata": {},
     "output_type": "execute_result"
    }
   ],
   "source": [
    "spark"
   ]
  },
  {
   "cell_type": "code",
   "execution_count": 18,
   "id": "e9c99e86",
   "metadata": {
    "scrolled": true
   },
   "outputs": [],
   "source": [
    "filename = '../data/nyc-parking-violations-2020.csv'\n",
    "\n",
    "df = spark.read.csv(filename, header=True)"
   ]
  },
  {
   "cell_type": "code",
   "execution_count": 20,
   "id": "bf82ee57",
   "metadata": {},
   "outputs": [
    {
     "name": "stderr",
     "output_type": "stream",
     "text": [
      "[Stage 3:=====================================================>   (17 + 1) / 18]\r"
     ]
    },
    {
     "name": "stdout",
     "output_type": "stream",
     "text": [
      "+-------------+------+\n",
      "|Vehicle Color| count|\n",
      "+-------------+------+\n",
      "|         BLEU|     1|\n",
      "|         GYPR|    47|\n",
      "|         DKBK|    14|\n",
      "|          RDG|    86|\n",
      "|          DK/|  7498|\n",
      "|         BKGL|    56|\n",
      "|        SILIV|    11|\n",
      "|          RED|161693|\n",
      "|         BLTN|    85|\n",
      "|         DKWH|     7|\n",
      "|          BUR|   118|\n",
      "|           SC|     6|\n",
      "|          TEA|    30|\n",
      "|          BLK| 91539|\n",
      "|          MRN|    45|\n",
      "|         YELO|     3|\n",
      "|         BRWN|   201|\n",
      "|          RDT|    87|\n",
      "|           SL| 10343|\n",
      "|        MULTI|    35|\n",
      "+-------------+------+\n",
      "only showing top 20 rows\n",
      "\n"
     ]
    },
    {
     "name": "stderr",
     "output_type": "stream",
     "text": [
      "\r",
      "                                                                                \r"
     ]
    }
   ],
   "source": [
    "df.groupby('Vehicle Color').count().show()"
   ]
  },
  {
   "cell_type": "code",
   "execution_count": 39,
   "id": "9baca2e4",
   "metadata": {},
   "outputs": [],
   "source": [
    "filename = '../data/taxi.csv'\n",
    "\n",
    "df = spark.read.csv(filename, header=True, timestampFormat='yyyy-MM-dd HH:mm:ss')"
   ]
  },
  {
   "cell_type": "code",
   "execution_count": 40,
   "id": "36e7571f",
   "metadata": {},
   "outputs": [
    {
     "data": {
      "text/plain": [
       "StructType([StructField('VendorID', StringType(), True), StructField('tpep_pickup_datetime', StringType(), True), StructField('tpep_dropoff_datetime', StringType(), True), StructField('passenger_count', StringType(), True), StructField('trip_distance', StringType(), True), StructField('pickup_longitude', StringType(), True), StructField('pickup_latitude', StringType(), True), StructField('RateCodeID', StringType(), True), StructField('store_and_fwd_flag', StringType(), True), StructField('dropoff_longitude', StringType(), True), StructField('dropoff_latitude', StringType(), True), StructField('payment_type', StringType(), True), StructField('fare_amount', StringType(), True), StructField('extra', StringType(), True), StructField('mta_tax', StringType(), True), StructField('tip_amount', StringType(), True), StructField('tolls_amount', StringType(), True), StructField('improvement_surcharge', StringType(), True), StructField('total_amount', StringType(), True)])"
      ]
     },
     "execution_count": 40,
     "metadata": {},
     "output_type": "execute_result"
    }
   ],
   "source": [
    "df.schema"
   ]
  },
  {
   "cell_type": "code",
   "execution_count": 36,
   "id": "1f1710fa",
   "metadata": {},
   "outputs": [
    {
     "data": {
      "text/plain": [
       "DataFrame[summary: string, VendorID: string, tpep_pickup_datetime: string, tpep_dropoff_datetime: string, passenger_count: string, trip_distance: string, pickup_longitude: string, pickup_latitude: string, RateCodeID: string, store_and_fwd_flag: string, dropoff_longitude: string, dropoff_latitude: string, payment_type: string, fare_amount: string, extra: string, mta_tax: string, tip_amount: string, tolls_amount: string, improvement_surcharge: string, total_amount: string]"
      ]
     },
     "execution_count": 36,
     "metadata": {},
     "output_type": "execute_result"
    }
   ],
   "source": [
    "df.describe()"
   ]
  },
  {
   "cell_type": "code",
   "execution_count": 33,
   "id": "b2c492be",
   "metadata": {},
   "outputs": [
    {
     "name": "stdout",
     "output_type": "stream",
     "text": [
      "+--------------------+\n",
      "|tpep_pickup_datetime|\n",
      "+--------------------+\n",
      "| 2015-06-02 11:19:29|\n",
      "| 2015-06-02 11:19:30|\n",
      "| 2015-06-02 11:19:31|\n",
      "| 2015-06-02 11:19:31|\n",
      "| 2015-06-02 11:19:32|\n",
      "| 2015-06-02 11:19:33|\n",
      "| 2015-06-02 11:19:34|\n",
      "| 2015-06-02 11:19:35|\n",
      "| 2015-06-02 11:19:36|\n",
      "| 2015-06-02 11:19:38|\n",
      "| 2015-06-02 11:19:38|\n",
      "| 2015-06-02 11:19:39|\n",
      "| 2015-06-02 11:19:40|\n",
      "| 2015-06-02 11:19:41|\n",
      "| 2015-06-02 11:19:41|\n",
      "| 2015-06-02 11:19:42|\n",
      "| 2015-06-02 11:19:44|\n",
      "| 2015-06-02 11:19:44|\n",
      "| 2015-06-02 11:19:45|\n",
      "| 2015-06-02 11:19:47|\n",
      "+--------------------+\n",
      "only showing top 20 rows\n",
      "\n"
     ]
    }
   ],
   "source": [
    "df[['tpep_pickup_datetime']].show()"
   ]
  },
  {
   "cell_type": "code",
   "execution_count": 41,
   "id": "4bb8d68e",
   "metadata": {},
   "outputs": [],
   "source": [
    "from pyspark.sql.types import TimestampNTZType\n",
    "from pyspark.sql \n"
   ]
  },
  {
   "cell_type": "code",
   "execution_count": 50,
   "id": "3699c508",
   "metadata": {},
   "outputs": [],
   "source": [
    "output_df = df.withColumn(\"tpep_pickup_datetime\",df[\"tpep_pickup_datetime\"].cast(TimestampNTZType()))"
   ]
  },
  {
   "cell_type": "code",
   "execution_count": 53,
   "id": "8036baa0",
   "metadata": {},
   "outputs": [
    {
     "data": {
      "text/plain": [
       "[Row(VendorID='2', tpep_pickup_datetime=datetime.datetime(2015, 6, 2, 11, 19, 29), tpep_dropoff_datetime='2015-06-02 11:47:52', passenger_count='1', trip_distance='1.63', pickup_longitude='-73.954429626464844', pickup_latitude='40.764141082763672', RateCodeID='1', store_and_fwd_flag='N', dropoff_longitude='-73.974754333496094', dropoff_latitude='40.754093170166016', payment_type='2', fare_amount='17', extra='0', mta_tax='0.5', tip_amount='0', tolls_amount='0', improvement_surcharge='0.3', total_amount='17.8'),\n",
       " Row(VendorID='2', tpep_pickup_datetime=datetime.datetime(2015, 6, 2, 11, 19, 30), tpep_dropoff_datetime='2015-06-02 11:27:56', passenger_count='1', trip_distance='.46', pickup_longitude='-73.971443176269531', pickup_latitude='40.758941650390625', RateCodeID='1', store_and_fwd_flag='N', dropoff_longitude='-73.978538513183594', dropoff_latitude='40.761909484863281', payment_type='1', fare_amount='6.5', extra='0', mta_tax='0.5', tip_amount='1', tolls_amount='0', improvement_surcharge='0.3', total_amount='8.3'),\n",
       " Row(VendorID='2', tpep_pickup_datetime=datetime.datetime(2015, 6, 2, 11, 19, 31), tpep_dropoff_datetime='2015-06-02 11:30:30', passenger_count='1', trip_distance='.87', pickup_longitude='-73.978111267089844', pickup_latitude='40.738433837890625', RateCodeID='1', store_and_fwd_flag='N', dropoff_longitude='-73.990272521972656', dropoff_latitude='40.745437622070313', payment_type='1', fare_amount='8', extra='0', mta_tax='0.5', tip_amount='2.2', tolls_amount='0', improvement_surcharge='0.3', total_amount='11'),\n",
       " Row(VendorID='2', tpep_pickup_datetime=datetime.datetime(2015, 6, 2, 11, 19, 31), tpep_dropoff_datetime='2015-06-02 11:39:02', passenger_count='1', trip_distance='2.13', pickup_longitude='-73.945892333984375', pickup_latitude='40.773529052734375', RateCodeID='1', store_and_fwd_flag='N', dropoff_longitude='-73.971527099609375', dropoff_latitude='40.760330200195312', payment_type='1', fare_amount='13.5', extra='0', mta_tax='0.5', tip_amount='2.86', tolls_amount='0', improvement_surcharge='0.3', total_amount='17.16'),\n",
       " Row(VendorID='1', tpep_pickup_datetime=datetime.datetime(2015, 6, 2, 11, 19, 32), tpep_dropoff_datetime='2015-06-02 11:32:49', passenger_count='1', trip_distance='1.40', pickup_longitude='-73.979087829589844', pickup_latitude='40.776771545410156', RateCodeID='1', store_and_fwd_flag='N', dropoff_longitude='-73.982162475585937', dropoff_latitude='40.758998870849609', payment_type='2', fare_amount='9.5', extra='0', mta_tax='0.5', tip_amount='0', tolls_amount='0', improvement_surcharge='0.3', total_amount='10.3')]"
      ]
     },
     "execution_count": 53,
     "metadata": {},
     "output_type": "execute_result"
    }
   ],
   "source": [
    "output_df.head(5)"
   ]
  },
  {
   "cell_type": "code",
   "execution_count": null,
   "id": "35548bbe",
   "metadata": {},
   "outputs": [],
   "source": []
  }
 ],
 "metadata": {
  "kernelspec": {
   "display_name": "Python 3 (ipykernel)",
   "language": "python",
   "name": "python3"
  },
  "language_info": {
   "codemirror_mode": {
    "name": "ipython",
    "version": 3
   },
   "file_extension": ".py",
   "mimetype": "text/x-python",
   "name": "python",
   "nbconvert_exporter": "python",
   "pygments_lexer": "ipython3",
   "version": "3.10.7"
  }
 },
 "nbformat": 4,
 "nbformat_minor": 5
}
